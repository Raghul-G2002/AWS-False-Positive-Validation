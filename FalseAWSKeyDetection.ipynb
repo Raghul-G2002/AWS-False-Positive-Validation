{
 "cells": [
  {
   "cell_type": "markdown",
   "metadata": {
    "id": "bsMDNMvCq2di"
   },
   "source": [
    "# False AWS Key Detection using Logistic Regression\n",
    "\n",
    "## Detecting whether the given Input is False AWS Key or Not\n"
   ]
  },
  {
   "cell_type": "markdown",
   "metadata": {
    "id": "lV2u6PZvq2dk"
   },
   "source": [
    "### Necessary Imports"
   ]
  },
  {
   "cell_type": "code",
   "execution_count": 1,
   "metadata": {
    "_cell_guid": "79c7e3d0-c299-4dcb-8224-4455121ee9b0",
    "_uuid": "d629ff2d2480ee46fbb7e2d37f6b5fab8052498a",
    "execution": {
     "iopub.execute_input": "2022-03-29T08:34:09.815937Z",
     "iopub.status.busy": "2022-03-29T08:34:09.815570Z",
     "iopub.status.idle": "2022-03-29T08:34:29.859948Z",
     "shell.execute_reply": "2022-03-29T08:34:29.858867Z",
     "shell.execute_reply.started": "2022-03-29T08:34:09.815875Z"
    },
    "id": "5IbMS9sqq2dl"
   },
   "outputs": [],
   "source": [
    "import pandas as pd\n",
    "import numpy as np \n",
    "import matplotlib.pyplot as plt\n",
    "from sklearn.feature_extraction.text import TfidfVectorizer\n",
    "from sklearn.pipeline import Pipeline\n",
    "from sklearn.metrics import classification_report, confusion_matrix\n",
    "from sklearn.model_selection import train_test_split\n",
    "from sklearn.linear_model import LogisticRegressionCV\n",
    "from sklearn.feature_selection import SelectKBest, chi2\n",
    "import pickle\n",
    "import plotly.express as px\n",
    "import matplotlib.pyplot as plt\n",
    "import matplotlib\n",
    "import seaborn as sns\n",
    "from sklearn import metrics\n",
    "%matplotlib inline"
   ]
  },
  {
   "cell_type": "markdown",
   "metadata": {
    "id": "fdDlT7kUq2dm"
   },
   "source": [
    "### Reading the dataset "
   ]
  },
  {
   "cell_type": "code",
   "execution_count": 30,
   "metadata": {
    "colab": {
     "base_uri": "https://localhost:8080/",
     "height": 206
    },
    "execution": {
     "iopub.execute_input": "2022-03-29T09:06:51.116528Z",
     "iopub.status.busy": "2022-03-29T09:06:51.116250Z",
     "iopub.status.idle": "2022-03-29T09:06:51.147469Z",
     "shell.execute_reply": "2022-03-29T09:06:51.146528Z",
     "shell.execute_reply.started": "2022-03-29T09:06:51.116493Z"
    },
    "id": "qI4upkEGq2dm",
    "outputId": "c1f35816-46de-4e19-d4d2-3d0c1e6bf2f4"
   },
   "outputs": [
    {
     "data": {
      "text/html": [
       "<div>\n",
       "<style scoped>\n",
       "    .dataframe tbody tr th:only-of-type {\n",
       "        vertical-align: middle;\n",
       "    }\n",
       "\n",
       "    .dataframe tbody tr th {\n",
       "        vertical-align: top;\n",
       "    }\n",
       "\n",
       "    .dataframe thead th {\n",
       "        text-align: right;\n",
       "    }\n",
       "</style>\n",
       "<table border=\"1\" class=\"dataframe\">\n",
       "  <thead>\n",
       "    <tr style=\"text-align: right;\">\n",
       "      <th></th>\n",
       "      <th>Data</th>\n",
       "      <th>Label</th>\n",
       "    </tr>\n",
       "  </thead>\n",
       "  <tbody>\n",
       "    <tr>\n",
       "      <th>0</th>\n",
       "      <td>7440/nexus/content/repositories/releases</td>\n",
       "      <td>Invalid</td>\n",
       "    </tr>\n",
       "    <tr>\n",
       "      <th>1</th>\n",
       "      <td>FinancialIdentificationSchemeName2Choice</td>\n",
       "      <td>Invalid</td>\n",
       "    </tr>\n",
       "    <tr>\n",
       "      <th>2</th>\n",
       "      <td>Bcom/dbs/itt/cd2fi/cdm/utils/ParamHelper</td>\n",
       "      <td>Invalid</td>\n",
       "    </tr>\n",
       "    <tr>\n",
       "      <th>3</th>\n",
       "      <td>getAssetsAndLiabilitiesLevelOneSummaryV2</td>\n",
       "      <td>Invalid</td>\n",
       "    </tr>\n",
       "    <tr>\n",
       "      <th>4</th>\n",
       "      <td>mapToEstablishCommunicationWithNullValues</td>\n",
       "      <td>Invalid</td>\n",
       "    </tr>\n",
       "  </tbody>\n",
       "</table>\n",
       "</div>"
      ],
      "text/plain": [
       "                                          Data    Label\n",
       "0     7440/nexus/content/repositories/releases  Invalid\n",
       "1     FinancialIdentificationSchemeName2Choice  Invalid\n",
       "2     Bcom/dbs/itt/cd2fi/cdm/utils/ParamHelper  Invalid\n",
       "3     getAssetsAndLiabilitiesLevelOneSummaryV2  Invalid\n",
       "4  mapToEstablishCommunicationWithNullValues    Invalid"
      ]
     },
     "execution_count": 30,
     "metadata": {},
     "output_type": "execute_result"
    }
   ],
   "source": [
    "dataset = pd.read_csv('Test.csv')\n",
    "dataset.head()"
   ]
  },
  {
   "cell_type": "markdown",
   "metadata": {
    "id": "-U7BepfXq2dm"
   },
   "source": [
    "### Plot to analyse how many entries are there"
   ]
  },
  {
   "cell_type": "code",
   "execution_count": 31,
   "metadata": {
    "colab": {
     "base_uri": "https://localhost:8080/",
     "height": 303
    },
    "id": "j7bSdN0Zq2dn",
    "outputId": "49cb87ef-08f0-441f-a29c-1c039432c1be"
   },
   "outputs": [
    {
     "data": {
      "image/png": "[encoded data removed]",
      "text/plain": [
       "<Figure size 432x288 with 1 Axes>"
      ]
     },
     "metadata": {
      "needs_background": "light"
     },
     "output_type": "display_data"
    }
   ],
   "source": [
    "dataset.groupby('Label').count().plot.bar(ylim=0)\n",
    "plt.show()"
   ]
  },
  {
   "cell_type": "markdown",
   "metadata": {
    "id": "nmOPWxkPq2dn"
   },
   "source": [
    "### Creating a vectorizer \n",
    "#### Converting the data into an array to do feature extraction"
   ]
  },
  {
   "cell_type": "code",
   "execution_count": 32,
   "metadata": {
    "colab": {
     "base_uri": "https://localhost:8080/"
    },
    "id": "psDOnUSkq2do",
    "outputId": "ee12c5a7-64ae-48de-f150-c55fa0af16f1"
   },
   "outputs": [
    {
     "data": {
      "text/plain": [
       "(9, 49)"
      ]
     },
     "execution_count": 32,
     "metadata": {},
     "output_type": "execute_result"
    }
   ],
   "source": [
    "vectorizer = TfidfVectorizer(min_df= 1,max_df = 10, stop_words=\"english\", sublinear_tf=True, norm='l2', ngram_range=(1, 2))\n",
    "final_features = vectorizer.fit_transform(dataset['Data'].values.astype('U')).toarray()\n",
    "final_features.shape"
   ]
  },
  {
   "cell_type": "markdown",
   "metadata": {
    "id": "-2o3ZpMyq2do"
   },
   "source": [
    "## Taking the features from the Dataset to train the Model "
   ]
  },
  {
   "cell_type": "code",
   "execution_count": 34,
   "metadata": {
    "colab": {
     "base_uri": "https://localhost:8080/"
    },
    "execution": {
     "iopub.execute_input": "2022-03-29T09:18:49.271627Z",
     "iopub.status.busy": "2022-03-29T09:18:49.271052Z",
     "iopub.status.idle": "2022-03-29T09:18:49.402626Z",
     "shell.execute_reply": "2022-03-29T09:18:49.401822Z",
     "shell.execute_reply.started": "2022-03-29T09:18:49.271576Z"
    },
    "id": "fvnIu57jq2dp",
    "outputId": "4a9b2af6-a6c8-49e1-a6a3-a96b0987b64f"
   },
   "outputs": [
    {
     "name": "stdout",
     "output_type": "stream",
     "text": [
      "4\n",
      "4\n"
     ]
    }
   ],
   "source": [
    "X = dataset['Data']\n",
    "Y = dataset['Label']\n",
    "X_train, X_test, y_train,y_test= train_test_split(X, Y,test_size=0.5)\n",
    "\n",
    "\n",
    "# Printing the X_train and Y_train\n",
    "print(len(X_train))\n",
    "print(len(y_train))"
   ]
  },
  {
   "cell_type": "markdown",
   "metadata": {
    "id": "6iY0xE1hq2dp"
   },
   "source": [
    "## Creating the Classifier logreg\n",
    "#### Here Logisitc Regression is used as a classifier to classify the features\n",
    "#### CV - Cross Validation to avoid Overfitting of Model\n"
   ]
  },
  {
   "cell_type": "code",
   "execution_count": 39,
   "metadata": {
    "id": "BQCBWAE0q2dp"
   },
   "outputs": [
    {
     "name": "stderr",
     "output_type": "stream",
     "text": [
      "C:\\Users\\raghu\\anaconda3\\lib\\site-packages\\sklearn\\model_selection\\_split.py:676: UserWarning: The least populated class in y has only 1 members, which is less than n_splits=3.\n",
      "  warnings.warn(\n"
     ]
    }
   ],
   "source": [
    "logreg = LogisticRegressionCV(cv =3,random_state=0)\n",
    "pipeline = Pipeline([('vect', vectorizer),\n",
    "                         ('chi',  SelectKBest(chi2, k='all')),\n",
    "                         ('clf', logreg)])\n",
    "\n",
    "model = pipeline.fit(X_train.astype('U'), y_train.astype('U'))\n",
    "with open('LogisticRegression.pickle', 'wb') as f:\n",
    "    pickle.dump(model, f)\n",
    "\n",
    "\n",
    "ytest = np.array(y_test)"
   ]
  },
  {
   "cell_type": "markdown",
   "metadata": {
    "id": "4bmeAhIIq2dq"
   },
   "source": [
    "## Printing the Classification Report ( Precision, Recall, Accuracy, Max AVG, Min AVG)"
   ]
  },
  {
   "cell_type": "code",
   "execution_count": 36,
   "metadata": {
    "id": "LGuucFEKq2dq"
   },
   "outputs": [
    {
     "name": "stdout",
     "output_type": "stream",
     "text": [
      "              precision    recall  f1-score   support\n",
      "\n",
      "     Invalid       0.80      1.00      0.89         4\n",
      "       Valid       0.00      0.00      0.00         1\n",
      "\n",
      "    accuracy                           0.80         5\n",
      "   macro avg       0.40      0.50      0.44         5\n",
      "weighted avg       0.64      0.80      0.71         5\n",
      "\n",
      "[[4 0]\n",
      " [1 0]]\n"
     ]
    },
    {
     "name": "stderr",
     "output_type": "stream",
     "text": [
      "C:\\Users\\raghu\\anaconda3\\lib\\site-packages\\sklearn\\metrics\\_classification.py:1318: UndefinedMetricWarning: Precision and F-score are ill-defined and being set to 0.0 in labels with no predicted samples. Use `zero_division` parameter to control this behavior.\n",
      "  _warn_prf(average, modifier, msg_start, len(result))\n",
      "C:\\Users\\raghu\\anaconda3\\lib\\site-packages\\sklearn\\metrics\\_classification.py:1318: UndefinedMetricWarning: Precision and F-score are ill-defined and being set to 0.0 in labels with no predicted samples. Use `zero_division` parameter to control this behavior.\n",
      "  _warn_prf(average, modifier, msg_start, len(result))\n",
      "C:\\Users\\raghu\\anaconda3\\lib\\site-packages\\sklearn\\metrics\\_classification.py:1318: UndefinedMetricWarning: Precision and F-score are ill-defined and being set to 0.0 in labels with no predicted samples. Use `zero_division` parameter to control this behavior.\n",
      "  _warn_prf(average, modifier, msg_start, len(result))\n"
     ]
    }
   ],
   "source": [
    "# confusion matrix and classification report(precision, recall, F1-score)\n",
    "print(classification_report(ytest.astype('U'), model.predict(X_test.astype('U'))))\n",
    "cf_matrix = confusion_matrix(ytest.astype('U'), model.predict(X_test.astype('U')))\n",
    "print(confusion_matrix(ytest.astype('U'), model.predict(X_test.astype('U'))))"
   ]
  },
  {
   "cell_type": "markdown",
   "metadata": {
    "id": "0nQjmJjMq2dq"
   },
   "source": [
    "# Confusion Matrix"
   ]
  },
  {
   "cell_type": "code",
   "execution_count": 37,
   "metadata": {
    "colab": {
     "base_uri": "https://localhost:8080/",
     "height": 342
    },
    "execution": {
     "iopub.execute_input": "2022-03-29T09:19:43.196060Z",
     "iopub.status.busy": "2022-03-29T09:19:43.195644Z",
     "iopub.status.idle": "2022-03-29T09:19:43.545393Z",
     "shell.execute_reply": "2022-03-29T09:19:43.544436Z",
     "shell.execute_reply.started": "2022-03-29T09:19:43.195994Z"
    },
    "id": "VGoMO_BQq2dq",
    "outputId": "91bc2b49-abae-46c1-b89d-0f42a9aa44fe"
   },
   "outputs": [
    {
     "data": {
      "text/plain": [
       "Text(0.5, 257.44, 'Predicted label')"
      ]
     },
     "execution_count": 37,
     "metadata": {},
     "output_type": "execute_result"
    },
    {
     "data": {
      "image/png": "[encoded data removed]",
      "text/plain": [
       "<Figure size 432x288 with 2 Axes>"
      ]
     },
     "metadata": {
      "needs_background": "light"
     },
     "output_type": "display_data"
    }
   ],
   "source": [
    "class_names=[0,1] # name  of classes\n",
    "fig, ax = plt.subplots()\n",
    "tick_marks = np.arange(len(class_names))\n",
    "plt.xticks(tick_marks, class_names)\n",
    "plt.yticks(tick_marks, class_names)\n",
    "# create heatmap\n",
    "sns.heatmap(pd.DataFrame(cf_matrix), annot=True, cmap=\"BuPu\" ,fmt='g')\n",
    "ax.xaxis.set_label_position(\"top\")\n",
    "plt.tight_layout()\n",
    "plt.title('Confusion matrix', y=1.1)\n",
    "plt.ylabel('Actual label')\n",
    "plt.xlabel('Predicted label')"
   ]
  },
  {
   "cell_type": "markdown",
   "metadata": {
    "id": "Q8wtU6thq2dq"
   },
   "source": [
    "# Testing the Model with the custom Input\n"
   ]
  },
  {
   "cell_type": "code",
   "execution_count": 40,
   "metadata": {
    "id": "e_eZxaXpq2dr"
   },
   "outputs": [],
   "source": [
    "def trainmodel(X_training,Y_training):\n",
    "    logreg = LogisticRegressionCV(cv = 5,random_state=0)\n",
    "    pipeline = Pipeline([('vect', vectorizer),\n",
    "                             ('chi',  SelectKBest(chi2, k='all')),\n",
    "                             ('clf', logreg)])\n",
    "\n",
    "    model = pipeline.fit(X_training.astype('U'), Y_training.astype('U'))\n",
    "    with open('LogisticRegression.pickle', 'wb') as f:\n",
    "        pickle.dump(model, f)\n",
    "\n",
    "\n",
    "    ytest = np.array(Y_training)\n",
    "    target_names=['Invalid Data','Valid Data']\n",
    "    print(classification_report(ytest.astype('U'), model.predict(X_training.astype('U')),target_names=target_names,zero_division=0))\n",
    "    cf_matrix = confusion_matrix(ytest.astype('U'), model.predict(X_training.astype('U')))\n",
    "    print(confusion_matrix(ytest.astype('U'), model.predict(X_training.astype('U'))))\n",
    "    class_names=[0,1] # name  of classes\n",
    "    fig, ax = plt.subplots()\n",
    "    tick_marks = np.arange(len(class_names))\n",
    "    plt.xticks(tick_marks, class_names)\n",
    "    plt.yticks(tick_marks, class_names)\n",
    "    # create heatmap\n",
    "    sns.heatmap(pd.DataFrame(cf_matrix), annot=True, cmap=\"BuPu\" ,fmt='g')\n",
    "    ax.xaxis.set_label_position(\"top\")\n",
    "    plt.tight_layout()\n",
    "    plt.title('Confusion matrix', y=1.1)\n",
    "    plt.ylabel('Actual label')\n",
    "    plt.xlabel('Predicted label')\n",
    "    return ytest\n"
   ]
  },
  {
   "cell_type": "code",
   "execution_count": 41,
   "metadata": {
    "colab": {
     "base_uri": "https://localhost:8080/",
     "height": 206
    },
    "id": "zhYAeM1aq2dr",
    "outputId": "4374beaf-e8d2-4b6f-b816-1fd4084ecc84"
   },
   "outputs": [
    {
     "data": {
      "text/html": [
       "<div>\n",
       "<style scoped>\n",
       "    .dataframe tbody tr th:only-of-type {\n",
       "        vertical-align: middle;\n",
       "    }\n",
       "\n",
       "    .dataframe tbody tr th {\n",
       "        vertical-align: top;\n",
       "    }\n",
       "\n",
       "    .dataframe thead th {\n",
       "        text-align: right;\n",
       "    }\n",
       "</style>\n",
       "<table border=\"1\" class=\"dataframe\">\n",
       "  <thead>\n",
       "    <tr style=\"text-align: right;\">\n",
       "      <th></th>\n",
       "      <th>Data</th>\n",
       "      <th>Label</th>\n",
       "    </tr>\n",
       "  </thead>\n",
       "  <tbody>\n",
       "    <tr>\n",
       "      <th>0</th>\n",
       "      <td>7440/nexus/content/repositories/releases</td>\n",
       "      <td>Invalid</td>\n",
       "    </tr>\n",
       "    <tr>\n",
       "      <th>1</th>\n",
       "      <td>FinancialIdentificationSchemeName2Choice</td>\n",
       "      <td>Invalid</td>\n",
       "    </tr>\n",
       "    <tr>\n",
       "      <th>2</th>\n",
       "      <td>Bcom/dbs/itt/cd2fi/cdm/utils/ParamHelper</td>\n",
       "      <td>Invalid</td>\n",
       "    </tr>\n",
       "    <tr>\n",
       "      <th>3</th>\n",
       "      <td>getAssetsAndLiabilitiesLevelOneSummaryV2</td>\n",
       "      <td>Invalid</td>\n",
       "    </tr>\n",
       "    <tr>\n",
       "      <th>4</th>\n",
       "      <td>mapToEstablishCommunicationWithNullValues</td>\n",
       "      <td>Invalid</td>\n",
       "    </tr>\n",
       "  </tbody>\n",
       "</table>\n",
       "</div>"
      ],
      "text/plain": [
       "                                          Data    Label\n",
       "0     7440/nexus/content/repositories/releases  Invalid\n",
       "1     FinancialIdentificationSchemeName2Choice  Invalid\n",
       "2     Bcom/dbs/itt/cd2fi/cdm/utils/ParamHelper  Invalid\n",
       "3     getAssetsAndLiabilitiesLevelOneSummaryV2  Invalid\n",
       "4  mapToEstablishCommunicationWithNullValues    Invalid"
      ]
     },
     "execution_count": 41,
     "metadata": {},
     "output_type": "execute_result"
    }
   ],
   "source": [
    "training_set = pd.read_csv(\"Test.csv\")\n",
    "training_set.head()"
   ]
  },
  {
   "cell_type": "code",
   "execution_count": 12,
   "metadata": {
    "colab": {
     "base_uri": "https://localhost:8080/",
     "height": 206
    },
    "id": "0-JV4hAyxQDl",
    "outputId": "ae593cac-8bf5-4048-a752-41f2a868ee0a"
   },
   "outputs": [
    {
     "data": {
      "text/html": [
       "<div>\n",
       "<style scoped>\n",
       "    .dataframe tbody tr th:only-of-type {\n",
       "        vertical-align: middle;\n",
       "    }\n",
       "\n",
       "    .dataframe tbody tr th {\n",
       "        vertical-align: top;\n",
       "    }\n",
       "\n",
       "    .dataframe thead th {\n",
       "        text-align: right;\n",
       "    }\n",
       "</style>\n",
       "<table border=\"1\" class=\"dataframe\">\n",
       "  <thead>\n",
       "    <tr style=\"text-align: right;\">\n",
       "      <th></th>\n",
       "      <th>Data</th>\n",
       "      <th>Label</th>\n",
       "    </tr>\n",
       "  </thead>\n",
       "  <tbody>\n",
       "    <tr>\n",
       "      <th>0</th>\n",
       "      <td>bvr60VqMlA3cwzLgHcCdceB0MW5PAHMWgdTtpeR8</td>\n",
       "      <td>Invalid</td>\n",
       "    </tr>\n",
       "    <tr>\n",
       "      <th>1</th>\n",
       "      <td>IZG3vmUAUCXfnw0Kpv6WfwxztvwXDOtaIswGy1UB</td>\n",
       "      <td>Invalid</td>\n",
       "    </tr>\n",
       "    <tr>\n",
       "      <th>2</th>\n",
       "      <td>35fjNsxEVIjkaf+m907BlFCxSB4EclVN5cYllmoY</td>\n",
       "      <td>Invalid</td>\n",
       "    </tr>\n",
       "    <tr>\n",
       "      <th>3</th>\n",
       "      <td>SFSupplierOverdueViewCsvReportingService</td>\n",
       "      <td>Invalid</td>\n",
       "    </tr>\n",
       "    <tr>\n",
       "      <th>4</th>\n",
       "      <td>NaN</td>\n",
       "      <td>NaN</td>\n",
       "    </tr>\n",
       "  </tbody>\n",
       "</table>\n",
       "</div>"
      ],
      "text/plain": [
       "                                       Data    Label\n",
       "0  bvr60VqMlA3cwzLgHcCdceB0MW5PAHMWgdTtpeR8  Invalid\n",
       "1  IZG3vmUAUCXfnw0Kpv6WfwxztvwXDOtaIswGy1UB  Invalid\n",
       "2  35fjNsxEVIjkaf+m907BlFCxSB4EclVN5cYllmoY  Invalid\n",
       "3  SFSupplierOverdueViewCsvReportingService  Invalid\n",
       "4                                       NaN      NaN"
      ]
     },
     "execution_count": 12,
     "metadata": {},
     "output_type": "execute_result"
    }
   ],
   "source": [
    "# training_set.loc[3] = ['SFSupplierOverdueViewCsvReportingService','Invalid']\n",
    "# training_set.head()"
   ]
  },
  {
   "cell_type": "markdown",
   "metadata": {
    "id": "GyFIi9d8q2dr"
   },
   "source": [
    "# The Final Classification Report"
   ]
  },
  {
   "cell_type": "code",
   "execution_count": 46,
   "metadata": {
    "colab": {
     "base_uri": "https://localhost:8080/",
     "height": 516
    },
    "id": "JflMqJImq2dr",
    "outputId": "82ebda55-b32d-4529-92c1-540d7ed6d2c6"
   },
   "outputs": [
    {
     "name": "stdout",
     "output_type": "stream",
     "text": [
      "              precision    recall  f1-score   support\n",
      "\n",
      "Invalid Data       0.78      1.00      0.88         7\n",
      "  Valid Data       0.00      0.00      0.00         2\n",
      "\n",
      "    accuracy                           0.78         9\n",
      "   macro avg       0.39      0.50      0.44         9\n",
      "weighted avg       0.60      0.78      0.68         9\n",
      "\n",
      "[[7 0]\n",
      " [2 0]]\n",
      "0       7440/nexus/content/repositories/releases\n",
      "1       FinancialIdentificationSchemeName2Choice\n",
      "2       Bcom/dbs/itt/cd2fi/cdm/utils/ParamHelper\n",
      "3       getAssetsAndLiabilitiesLevelOneSummaryV2\n",
      "4    mapToEstablishCommunicationWithNullValues  \n",
      "5        com/stigmata/server/base/NdServiceAgent\n",
      "6        com/dbs/into/basegen/model/PIIDetails  \n",
      "7       bXyTQCB6lNFNNDAxGrX/WfnYwE4/7HCF4tzr78Di\n",
      "8       o2J9vY8OMAwUgeD/TLZhI0VU7iuRPS4OH2c1TdA3\n",
      "Name: Data, dtype: object\n",
      "['Invalid' 'Invalid' 'Invalid' 'Invalid' 'Invalid' 'Invalid' 'Invalid'\n",
      " 'Valid' 'Valid']\n"
     ]
    },
    {
     "name": "stderr",
     "output_type": "stream",
     "text": [
      "C:\\Users\\raghu\\anaconda3\\lib\\site-packages\\sklearn\\model_selection\\_split.py:676: UserWarning: The least populated class in y has only 2 members, which is less than n_splits=5.\n",
      "  warnings.warn(\n"
     ]
    },
    {
     "data": {
      "image/png": "[encoded data removed]",
      "text/plain": [
       "<Figure size 432x288 with 2 Axes>"
      ]
     },
     "metadata": {
      "needs_background": "light"
     },
     "output_type": "display_data"
    }
   ],
   "source": [
    "X_training = training_set['Data']\n",
    "Y_training = training_set['Label']\n",
    "# print(Y_training)\n",
    "testvalue =trainmodel(X_training,Y_training)\n",
    "# print(testvalue)\n",
    "print(X_training)\n",
    "print(testvalue)"
   ]
  }
 ],
 "metadata": {
  "colab": {
   "name": "FalseAWSKeyDetection.ipynb",
   "provenance": []
  },
  "kernelspec": {
   "display_name": "Python 3 (ipykernel)",
   "language": "python",
   "name": "python3"
  },
  "language_info": {
   "codemirror_mode": {
    "name": "ipython",
    "version": 3
   },
   "file_extension": ".py",
   "mimetype": "text/x-python",
   "name": "python",
   "nbconvert_exporter": "python",
   "pygments_lexer": "ipython3",
   "version": "3.9.7"
  }
 },
 "nbformat": 4,
 "nbformat_minor": 1
}
